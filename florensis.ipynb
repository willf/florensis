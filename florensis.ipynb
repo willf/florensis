{
 "cells": [
  {
   "cell_type": "markdown",
   "metadata": {},
   "source": [
    "# Paths through the Labyrinth of Florensis\n",
    "\n",
    "Florensis was a tenth-century monk in northern Spain, a scribe and a good one. \n",
    "\n",
    "In one of the books he enscribed, he made a famous \"labyrinth\" page, with a matrix of letters (and other beautiful decorations).\n"
   ]
  },
  {
   "cell_type": "markdown",
   "metadata": {},
   "source": [
    "![Forensis's Labyrinth](https://upload.wikimedia.org/wikipedia/commons/thumb/9/94/Moralia_in_Job_945_-_Laberinto_conmemorativo_-_Biblioteca_Nacional_Cod80.JPG/424px-Moralia_in_Job_945_-_Laberinto_conmemorativo_-_Biblioteca_Nacional_Cod80.JPG)"
   ]
  },
  {
   "cell_type": "markdown",
   "metadata": {},
   "source": [
    "Let me repeat the letters here:"
   ]
  },
  {
   "cell_type": "markdown",
   "metadata": {},
   "source": [
    "<table>\n",
    "<tr><td>T</td><td>N</td><td>E</td><td>R</td><td>O</td><td>L</td><td>F</td><td>L</td><td>O</td><td>R</td><td>E</td><td>N</td><td>T</td></tr>\n",
    "<tr><td>I</td><td>T</td><td>N</td><td>E</td><td>R</td><td>O</td><td>L</td><td>O</td><td>R</td><td>E</td><td>N</td><td>T</td><td>I</td></tr>\n",
    "<tr><td>U</td><td>I</td><td>T</td><td>N</td><td>E</td><td>R</td><td>O</td><td>R</td><td>E</td><td>N</td><td>T</td><td>I</td><td>U</td></tr>\n",
    "<tr><td>M</td><td>U</td><td>I</td><td>T</td><td>N</td><td>E</td><td>R</td><td>E</td><td>N</td><td>T</td><td>I</td><td>U</td><td>M</td></tr>\n",
    "<tr><td>I</td><td>M</td><td>U</td><td>I</td><td>T</td><td>N</td><td>E</td><td>N</td><td>T</td><td>I</td><td>U</td><td>M</td><td>I</td></tr>\n",
    "<tr><td>N</td><td>I</td><td>M</td><td>U</td><td>I</td><td>T</td><td>N</td><td>T</td><td>I</td><td>U</td><td>M</td><td>I</td><td>N</td></tr>\n",
    "<tr><td>D</td><td>N</td><td>I</td><td>M</td><td>U</td><td>I</td><td>T</td><td>I</td><td>U</td><td>M</td><td>I</td><td>N</td><td>D</td></tr>\n",
    "<tr><td>I</td><td>D</td><td>N</td><td>I</td><td>M</td><td>U</td><td>I</td><td>U</td><td>M</td><td>I</td><td>N</td><td>D</td><td>I</td></tr>\n",
    "<tr><td>G</td><td>I</td><td>D</td><td>N</td><td>I</td><td>M</td><td>U</td><td>M</td><td>I</td><td>N</td><td>D</td><td>I</td><td>G</td></tr>\n",
    "<tr><td>N</td><td>G</td><td>I</td><td>D</td><td>N</td><td>I</td><td>M</td><td>I</td><td>N</td><td>D</td><td>I</td><td>G</td><td>N</td></tr>\n",
    "<tr><td>U</td><td>N</td><td>G</td><td>I</td><td>D</td><td>N</td><td>I</td><td>N</td><td>D</td><td>I</td><td>G</td><td>N</td><td>U</td></tr>\n",
    "<tr><td>M</td><td>U</td><td>N</td><td>G</td><td>I</td><td>D</td><td>N</td><td>D</td><td>I</td><td>G</td><td>N</td><td>U</td><td>M</td></tr>\n",
    "<tr><td>M</td><td>M</td><td>U</td><td>N</td><td>G</td><td>I</td><td>D</td><td>I</td><td>G</td><td>N</td><td>U</td><td>M</td><td>M</td></tr>\n",
    "<tr><td>E</td><td>M</td><td>M</td><td>U</td><td>N</td><td>G</td><td>I</td><td>G</td><td>N</td><td>U</td><td>M</td><td>M</td><td>E</td></tr>\n",
    "<tr><td>M</td><td>E</td><td>M</td><td>M</td><td>U</td><td>N</td><td>G</td><td>N</td><td>U</td><td>M</td><td>M</td><td>E</td><td>M</td></tr>\n",
    "<tr><td>O</td><td>M</td><td>E</td><td>M</td><td>M</td><td>U</td><td>N</td><td>U</td><td>M</td><td>M</td><td>E</td><td>M</td><td>O</td></tr>\n",
    "<tr><td>R</td><td>O</td><td>M</td><td>E</td><td>M</td><td>M</td><td>U</td><td>M</td><td>M</td><td>E</td><td>M</td><td>O</td><td>R</td></tr>\n",
    "<tr><td>A</td><td>R</td><td>O</td><td>M</td><td>E</td><td>M</td><td>M</td><td>M</td><td>E</td><td>M</td><td>O</td><td>R</td><td>A</td></tr>\n",
    "<tr><td>R</td><td>A</td><td>R</td><td>O</td><td>M</td><td>E</td><td>M</td><td>E</td><td>M</td><td>O</td><td>R</td><td>A</td><td>R</td></tr>\n",
    "<tr><td>E</td><td>R</td><td>A</td><td>R</td><td>O</td><td>M</td><td>E</td><td>M</td><td>O</td><td>R</td><td>A</td><td>R</td><td>E</td></tr>\n",
    "</table>"
   ]
  },
  {
   "cell_type": "markdown",
   "metadata": {},
   "source": [
    "On inspection, you can see the letter **F** in the middle of the top row, and if you read to the end, and then *down* the last column, a phrase will jump out at you (well, if you know Latin, and are used to not using spaces): **FLORENTIUMINDIGNUMMEMORARE** Furthermore, if you start from the **F** and go *backwards* across the top row, and then down the *first* column, you'll see the phrase there, as well. And, if start from that **F**, go *down* a bit, then *left* (or *right*) a bit, over and over then until you hit the edge, you'll see it *again*. \"FLORENTIUM INDIGNUM MEMORARE\" is enscribed over and over: \"Remember unworthy Forensis.\"\n",
    "\n",
    "Here are three such examples:\n"
   ]
  },
  {
   "cell_type": "markdown",
   "metadata": {},
   "source": [
    "<table>\n",
    "<tr><th>T</th><th>N</th><th>E</th><th>R</th><th>O</th><th>L</th><th>F</th><th>L</th><th>O</th><th>R</th><th>E</th><th>N</th><th>T</th></tr>\n",
    "<tr><th>I</th><td>·</td><td>·</td><td>·</td><td>·</td><td>·</td><th>L</th><td>·</td><td>·</td><td>·</td><td>·</td><td>·</td><th>I</th></tr>\n",
    "<tr><th>U</th><td>·</td><td>·</td><td>·</td><td>·</td><td>·</td><th>O</th><td>·</td><td>·</td><td>·</td><td>·</td><td>·</td><th>U</th></tr>\n",
    "<tr><th>M</th><td>·</td><td>·</td><td>·</td><th>N</th><th>E</th><th>R</th><td>·</td><td>·</td><td>·</td><td>·</td><td>·</td><th>M</th></tr>\n",
    "<tr><th>I</th><td>·</td><td>·</td><td>·</td><th>T</th><td>·</td><td>·</td><td>·</td><td>·</td><td>·</td><td>·</td><td>·</td><th>I</th></tr>\n",
    "<tr><th>N</th><td>·</td><td>·</td><td>·</td><th>I</th><td>·</td><td>·</td><td>·</td><td>·</td><td>·</td><td>·</td><td>·</td><th>N</th></tr>\n",
    "<tr><th>D</th><td>·</td><td>·</td><td>·</td><th>U</th><td>·</td><td>·</td><td>·</td><td>·</td><td>·</td><td>·</td><td>·</td><th>D</th></tr>\n",
    "<tr><th>I</th><th>D</th><th>N</th><th>I</th><th>M</th><td>·</td><td>·</td><td>·</td><td>·</td><td>·</td><td>·</td><td>·</td><th>I</th></tr>\n",
    "<tr><th>G</th><td>·</td><td>·</td><td>·</td><td>·</td><td>·</td><td>·</td><td>·</td><td>·</td><td>·</td><td>·</td><td>·</td><th>G</th></tr>\n",
    "<tr><th>N</th><td>·</td><td>·</td><td>·</td><td>·</td><td>·</td><td>·</td><td>·</td><td>·</td><td>·</td><td>·</td><td>·</td><th>N</th></tr>\n",
    "<tr><th>U</th><td>·</td><td>·</td><td>·</td><td>·</td><td>·</td><td>·</td><td>·</td><td>·</td><td>·</td><td>·</td><td>·</td><th>U</th></tr>\n",
    "<tr><th>M</th><td>·</td><td>·</td><td>·</td><td>·</td><td>·</td><td>·</td><td>·</td><td>·</td><td>·</td><td>·</td><td>·</td><th>M</th></tr>\n",
    "<tr><th>M</th><td>·</td><td>·</td><td>·</td><td>·</td><td>·</td><td>·</td><td>·</td><td>·</td><td>·</td><td>·</td><td>·</td><th>M</th></tr>\n",
    "<tr><th>E</th><td>·</td><td>·</td><td>·</td><td>·</td><td>·</td><td>·</td><td>·</td><td>·</td><td>·</td><td>·</td><td>·</td><th>E</th></tr>\n",
    "<tr><th>M</th><td>·</td><td>·</td><td>·</td><td>·</td><td>·</td><td>·</td><td>·</td><td>·</td><td>·</td><td>·</td><td>·</td><th>M</th></tr>\n",
    "<tr><th>O</th><td>·</td><td>·</td><td>·</td><td>·</td><td>·</td><td>·</td><td>·</td><td>·</td><td>·</td><td>·</td><td>·</td><th>O</th></tr>\n",
    "<tr><th>R</th><td>·</td><td>·</td><td>·</td><td>·</td><td>·</td><td>·</td><td>·</td><td>·</td><td>·</td><td>·</td><td>·</td><th>R</th></tr>\n",
    "<tr><th>A</th><td>·</td><td>·</td><td>·</td><td>·</td><td>·</td><td>·</td><td>·</td><td>·</td><td>·</td><td>·</td><td>·</td><th>A</th></tr>\n",
    "<tr><th>R</th><td>·</td><td>·</td><td>·</td><td>·</td><td>·</td><td>·</td><td>·</td><td>·</td><td>·</td><td>·</td><td>·</td><th>R</th></tr>\n",
    "<tr><th>E</th><td>·</td><td>·</td><td>·</td><td>·</td><td>·</td><td>·</td><td>·</td><td>·</td><td>·</td><td>·</td><td>·</td><th>E</th></tr>\n",
    "</table>"
   ]
  },
  {
   "cell_type": "markdown",
   "metadata": {},
   "source": [
    "So, a question to ask: **How many ways are there to trace FLORENTIUM INDIGNUM MEMORARE in this labyrinth?** Calculemus!\n"
   ]
  },
  {
   "cell_type": "markdown",
   "metadata": {},
   "source": [
    "First, some definitions: A _cell_ contains a x,y coordinate and a letter. A _path_ is list of cells. A _labyrinth_ is an array of cells, with cell coordinates starting at 0,0 in the top left (as is common in computer science). The letter **F** above is in the cell at 6,0, and the **E** at the bottom right is at (12, 19). A _proper prefix_ of a string is a non-empty string that starts the string; for example, `ab` is a proper prefix of `abbot`, but `abc` is not.\n"
   ]
  },
  {
   "cell_type": "markdown",
   "metadata": {},
   "source": [
    "We can do a [breadth-first search](https://en.wikipedia.org/wiki/Breadth-first_search) through the array to find just those paths whose letters, in order, spell out \"FLORENTIUMINDIGNUMMEMORARE\". We do this by creating a queue of paths, starting with a path with just one cell: (0, 6, F). We then enter a loop: "
   ]
  },
  {
   "cell_type": "markdown",
   "metadata": {},
   "source": [
    "```\n",
    "while queue is not empty:\n",
    "    remove the first path in the queue\n",
    "    if the path spells out the phrase, add it to the list of found paths\n",
    "    otherwise, \n",
    "      collect all the neighbors of the last cell in the path\n",
    "      for each neighbor:\n",
    "          create a new path with the cell appended to the current path\n",
    "          if this path spells out a proper prefix of the phrase, add it to the queue\n",
    "```"
   ]
  },
  {
   "cell_type": "markdown",
   "metadata": {},
   "source": [
    "This algorithm will eventually terminate because the number of cells is limited. _Note_: it would not terminate if a cell is added to a path that was just visited -- in other words, if a loop is created -- but that doesn't happen in the current case.\n"
   ]
  },
  {
   "cell_type": "markdown",
   "metadata": {},
   "source": [
    "Running this algorithm over the current labyrinth, we get the answer to our question: **354,200**, or 2^3×5^2×7×11×23. \n"
   ]
  },
  {
   "cell_type": "code",
   "execution_count": null,
   "metadata": {},
   "outputs": [],
   "source": []
  }
 ],
 "metadata": {
  "kernelspec": {
   "display_name": "Python 3",
   "language": "python",
   "name": "python3"
  },
  "language_info": {
   "codemirror_mode": {
    "name": "ipython",
    "version": 3
   },
   "file_extension": ".py",
   "mimetype": "text/x-python",
   "name": "python",
   "nbconvert_exporter": "python",
   "pygments_lexer": "ipython3",
   "version": "3.5.2"
  }
 },
 "nbformat": 4,
 "nbformat_minor": 2
}
